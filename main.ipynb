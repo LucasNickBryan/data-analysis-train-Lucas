{
 "cells": [
  {
   "cell_type": "code",
   "execution_count": 3,
   "metadata": {},
   "outputs": [],
   "source": [
    "import pandas as pd\n",
    "from datetime import datetime, timedelta\n",
    "\n",
    "# Loading csv data\n",
    "bids = pd.read_csv('./datas/bids.csv')"
   ]
  },
  {
   "cell_type": "code",
   "execution_count": 4,
   "metadata": {},
   "outputs": [
    {
     "name": "stdout",
     "output_type": "stream",
     "text": [
      "      auction    ip\n",
      "0       00270   771\n",
      "1       008vv     2\n",
      "2       00cwr    13\n",
      "3       00do0     2\n",
      "4       00hjy    32\n",
      "...       ...   ...\n",
      "15046   zznnc     2\n",
      "15047   zzoy7   196\n",
      "15048   zztha     3\n",
      "15049   zzzlx  3519\n",
      "15050   zzzy7  2085\n",
      "\n",
      "[15051 rows x 2 columns]\n"
     ]
    }
   ],
   "source": [
    "# 1. Get the number of unique IPs per auction\n",
    "auctionIpCounts = bids.groupby('auction')['ip'].nunique().reset_index()\n",
    "print(auctionIpCounts)"
   ]
  },
  {
   "cell_type": "code",
   "execution_count": 5,
   "metadata": {},
   "outputs": [
    {
     "name": "stdout",
     "output_type": "stream",
     "text": [
      "           merchandise country  bid_count\n",
      "14          auto parts      in       2243\n",
      "101    books and music      in      11820\n",
      "230           clothing      in       7619\n",
      "411          computers      th      16731\n",
      "495          furniture      in      47031\n",
      "675         home goods      in     169649\n",
      "861            jewelry      in     560773\n",
      "1050            mobile      in     578076\n",
      "1225  office equipment      in      56140\n",
      "1411    sporting goods      in     346852\n"
     ]
    }
   ],
   "source": [
    "# 2. Count max bids per merchandise per country\n",
    "groupedMerchadiseByCountry = bids.groupby(['merchandise', 'country']).size().reset_index(name='bid_count')\n",
    "max_bids_per_merchandise = groupedMerchadiseByCountry.loc[groupedMerchadiseByCountry.groupby('merchandise')['bid_count'].idxmax()]\n",
    "print(max_bids_per_merchandise)"
   ]
  },
  {
   "cell_type": "code",
   "execution_count": 8,
   "metadata": {},
   "outputs": [
    {
     "name": "stderr",
     "output_type": "stream",
     "text": [
      "/tmp/ipykernel_6300/2461763805.py:10: FutureWarning: The default of observed=False is deprecated and will be changed to True in a future version of pandas. Pass observed=False to retain current behavior or observed=True to adopt the future default and silence this warning.\n",
      "  grouped = bids.groupby(['period', 'auction'])['bidder_id'].nunique().reset_index(name='unique_bidders')\n"
     ]
    },
    {
     "name": "stdout",
     "output_type": "stream",
     "text": [
      "     period  average_unique_bidders\n",
      "0  Period 1                9.409807\n",
      "1  Period 2                6.611720\n",
      "2  Period 3                6.127500\n",
      "3  Period 4                9.177463\n"
     ]
    },
    {
     "name": "stderr",
     "output_type": "stream",
     "text": [
      "/tmp/ipykernel_6300/2461763805.py:12: FutureWarning: The default of observed=False is deprecated and will be changed to True in a future version of pandas. Pass observed=False to retain current behavior or observed=True to adopt the future default and silence this warning.\n",
      "  average_unique_bidders = grouped.groupby('period')['unique_bidders'].mean().reset_index(name='average_unique_bidders')\n"
     ]
    }
   ],
   "source": [
    "# 3. Calculate average number of unique bidders per auction in each of the three separate time periods\n",
    "# Convert the time column to datetime\n",
    "bids['time'] = pd.to_datetime(bids['time'])\n",
    "start_time = bids['time'].min()\n",
    "end_time = bids['time'].max()\n",
    "periods = pd.date_range(start=start_time, end=end_time, periods=4)\n",
    "# Attribute a period to each record\n",
    "bids['period'] = pd.cut(bids['time'], bins=periods, labels=['Period 1', 'Period 2', 'Period 3'])\n",
    "# Group by period and auction, then find unique bidders for each auction\n",
    "grouped = bids.groupby(['period', 'auction'])['bidder_id'].nunique().reset_index(name='unique_bidders')\n",
    "# Calculate the average number of unique bidders per auction for each period\n",
    "average_unique_bidders = grouped.groupby('period')['unique_bidders'].mean().reset_index(name='average_unique_bidders')\n",
    "print(average_unique_bidders)"
   ]
  }
 ],
 "metadata": {
  "kernelspec": {
   "display_name": "Python 3",
   "language": "python",
   "name": "python3"
  },
  "language_info": {
   "codemirror_mode": {
    "name": "ipython",
    "version": 3
   },
   "file_extension": ".py",
   "mimetype": "text/x-python",
   "name": "python",
   "nbconvert_exporter": "python",
   "pygments_lexer": "ipython3",
   "version": "3.12.4"
  }
 },
 "nbformat": 4,
 "nbformat_minor": 2
}
